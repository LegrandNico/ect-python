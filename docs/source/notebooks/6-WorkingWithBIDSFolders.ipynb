{
 "cells": [
  {
   "cell_type": "markdown",
   "id": "cf2a2ca5",
   "metadata": {},
   "source": [
    "Author: Nicolas Legrand <nicolas.legrand@cfin.au.dk>"
   ]
  },
  {
   "cell_type": "code",
   "execution_count": 1,
   "id": "24263369",
   "metadata": {
    "tags": [
     "hide-input"
    ]
   },
   "outputs": [],
   "source": [
    "%%capture\n",
    "import sys\n",
    "if 'google.colab' in sys.modules:\n",
    "    ! pip install systole"
   ]
  },
  {
   "cell_type": "markdown",
   "id": "cfc81d37",
   "metadata": {},
   "source": [
    "# Working with BIDS folders\n",
    "Starting in version `0.2.3`, Systole provides tools to interact efficiently with large datasets containing physiological recordings. Most of the functionalities interface with folders structured following the [BIDS standards](https://bids-specification.readthedocs.io/en/stable/) and this is the format we recommend using if you are following this tutorial.\n",
    "\n",
    "Under BIDS standards, physiological recordings, sometimes associated with behavioural tasks or neural recordings, are stored with a filename ending with `*_physio.tsv.gz` and are always accompanied with sidecar a `*_physio.json` file containing metadata like the recording modality or the sampling frequency. Accessing both the times series and its accompanying metadata will help Systole automate the preprocessing by finding the correct parameters for peaks detection and reports.\n",
    "\n",
    "Once you have organized your folder, you should have a structure resembling this one:\n",
    "\n",
    "```\n",
    "└─ BIDS/\n",
    "   ├─ sub-0001/\n",
    "   │  └─ ses-session1/\n",
    "   │     └─ beh/\n",
    "   │        ├─ sub-0001_ses_session1_task-mytask_physio.tsv.gz\n",
    "   │        └─ sub-0001_ses_session1_task-mytask_physio.json\n",
    "   │\n",
    "   ├─ sub-0002/\n",
    "   ├─ sub-0003/\n",
    "   └─ ... \n",
    "```\n",
    "\n",
    "Here, we have physiological recordings associated with a behavioural task for `n` participants in the folder."
   ]
  },
  {
   "cell_type": "markdown",
   "id": "cba92579",
   "metadata": {},
   "source": [
    "## Signal preprocessing and creation of subject and group-level reports"
   ]
  },
  {
   "cell_type": "markdown",
   "id": "1b2348ca-8c1c-4efa-9ab5-f2f3edba125b",
   "metadata": {},
   "source": [
    "The first step will be to extract peaks from the physiological signal and generate individual reports for each participant, so we can visualize the signal quality and peaks detection.\n",
    "\n",
    "### Preprocessing the physiological recording from one participant\n",
    "\n",
    "The py:func:`systole.reports` sub-module contains tools to directly interact with BIDS formatted folders, preprocess and save individual reports in a BIDS consistent way. Those functionalities are built on the top of the py:func:`systole.reports.subject_level_report` function. This function will simply take a signal as input and will save as output the preprocessed signal with peaks detection (`_physio.tsv.gz` with the `_physio.json`), an `.html` reports adapted to the kind of signal that was provided, and a `features.tsv` file containing heart rate or respiratory rate variability features.\n",
    "\n",
    "For example, running the following code:\n",
    "\n",
    "\n",
    "```python\n",
    "from systole import import_dataset1\n",
    "from systole.reports import subject_level_report\n",
    "\n",
    "ecg = import_dataset1(modalities=[\"ECG\"]).ecg.to_numpy()\n",
    "\n",
    "subject_level_report(\n",
    "    participant_id=\"participant_test\",\n",
    "    pattern=\"task_test\",\n",
    "    result_folder=\"./\",\n",
    "    session=\"session_test\",\n",
    "    ecg=ecg,\n",
    "    ecg_sfreq=1000,\n",
    ")\n",
    "```"
   ]
  },
  {
   "cell_type": "markdown",
   "id": "b90beeaa-0911-4b50-b281-af0c6981364a",
   "metadata": {},
   "source": [
    "will save these four new files in the file folder.\n",
    "1. The `.html` file is a standalone document that can be visualized in the browser.\n",
    "2. The `features.tsv` contains heart rate and/or respiration rate variability metrics.\n",
    "3. The `_physio.tsv.gz` and the `_physio.json` files contain the preprocessed signal with new columns `peaks` for peaks detection."
   ]
  },
  {
   "cell_type": "markdown",
   "id": "20491907-8031-455b-9834-ac219c384c40",
   "metadata": {},
   "source": [
    "### Preprocessing the entire BIDS folder\n",
    "\n",
    "The previous function call can be automated for each participant and each file of a given BIDS folder and to extract the physiological features using the information provided in the `json` metadata automatically. This can be done using the py:func:`systole.reports.wrapper` function, or directly from the command line. For example, the following command:\n",
    "\n",
    "```bash\n",
    "systole --bids_folder=\"/mnt/scratch/BIDS/\" \\\n",
    "        --patterns=\"task-mytask\" \\\n",
    "        --modality=\"beh\" \\\n",
    "        --n_jobs=10 \\\n",
    "        --overwrite=True\n",
    "```\n",
    "\n",
    "will preprocess the data for all participants with a physiological recording in the session `ses-session1` (default), for the behavioural modality (`beh`) and the task `mytask`. We set `n_jobs=10`, meaning that we will run 40 processes in parallel, and `overwrite=True` to overwrite previous data with the same ID in the derivative folder."
   ]
  },
  {
   "cell_type": "markdown",
   "id": "f4f50d3f-83ec-4c79-b7f8-81f146b21d2d",
   "metadata": {},
   "source": [
    "```{note}\n",
    "When setting `overwrite=True`, only the preprocessed derivatives can be overwritten, but not the edited files located in `BIDS/systole/derivatives/corrected/*`. This means that it is possible to re-run the preprocessing event after working on the manual artefacts edition (see below).\n",
    "```"
   ]
  },
  {
   "cell_type": "markdown",
   "id": "46e763cc-134a-4850-973d-96ea9d401db9",
   "metadata": {},
   "source": [
    "Once the preprocessing is completed, the structure of the BIDS repository should now include a new `systole` folder in the derivatives:\n",
    "\n",
    "```\n",
    "└─ BIDS/\n",
    "   ├─ derivatives/\n",
    "   │  └─ systole/\n",
    "   │     └─ sub-0001/\n",
    "   │         └─ ses-session1/\n",
    "   │            └─ beh/\n",
    "   │               ├─ sub-0001_ses_session1_task-mytask_features.tsv\n",
    "   │               ├─ sub-0001_ses_session1_task-mytask_report.html\n",
    "   │               ├─ sub-0001_ses_session1_task-mytask_physio.tsv.gz\n",
    "   │               └─ sub-0001_ses_session1_task-mytask_physio.json\n",
    "   ├─ sub-0001/\n",
    "   │  └─ ses-session1/\n",
    "   │     └─ beh/\n",
    "   │        ├─ sub-0001_ses_session1_task-mytask_physio.tsv.gz\n",
    "   │        └─ sub-0001_ses_session1_task-mytask_physio.json\n",
    "   │\n",
    "   ├─ sub-0002/\n",
    "   ├─ sub-0003/\n",
    "   └─ ... \n",
    "```"
   ]
  },
  {
   "cell_type": "markdown",
   "id": "576128ad-9178-4522-b2db-963f8854ffe3",
   "metadata": {},
   "source": [
    "(viewer)=\n",
    "## Manual edition of peaks vector and labelling bad segments using the Viewer\n",
    "\n",
    "While we hope that the peaks detection function used by [Systole](https://embodied-computation-group.github.io/systole/#) is sufficiently robust to extract peak vectors without errors for most of the uses cases, you might still encounter noisy or invalid recording that you will want to manually inspect and sometimes edit.\n",
    "\n",
    "The py:func:`systole.viewer` sub-module contains handy functions to interactively inspect and edit the preprocessed folders and save the modified information accordingly."
   ]
  },
  {
   "cell_type": "code",
   "execution_count": 2,
   "id": "5a7f0e10-5ac6-4063-8df2-3c531304222d",
   "metadata": {},
   "outputs": [],
   "source": [
    "from IPython.display import display\n",
    "from systole.viewer import Viewer\n",
    "\n",
    "%matplotlib ipympl"
   ]
  },
  {
   "cell_type": "code",
   "execution_count": 3,
   "id": "d5f73ac8-2752-40cf-8493-6d1bbd65cfb6",
   "metadata": {},
   "outputs": [],
   "source": [
    "view = Viewer()"
   ]
  },
  {
   "cell_type": "code",
   "execution_count": 4,
   "id": "23b76f29-abcc-4cc6-be13-11e47572a6f6",
   "metadata": {},
   "outputs": [
    {
     "data": {
      "application/vnd.jupyter.widget-view+json": {
       "model_id": "b303c1d6bce44334bfdbca2c5d4f9bbd",
       "version_major": 2,
       "version_minor": 0
      },
      "text/plain": [
       "VBox(children=(HBox(children=(Textarea(value='', description='BIDS folders:', layout=Layout(width='200px'), pl…"
      ]
     },
     "metadata": {},
     "output_type": "display_data"
    },
    {
     "data": {
      "application/vnd.jupyter.widget-view+json": {
       "model_id": "e568da1a5fbb4d1886a5a4e117edc850",
       "version_major": 2,
       "version_minor": 0
      },
      "text/plain": [
       "Output()"
      ]
     },
     "metadata": {},
     "output_type": "display_data"
    }
   ],
   "source": [
    "display(view.box, view.output);"
   ]
  },
  {
   "cell_type": "markdown",
   "id": "64b8cb01-d097-4cc5-a0f2-3bc58b5b135c",
   "metadata": {},
   "source": [
    "* Left mouse button : remove all the peaks in the selected interval.\n",
    "* Right mouse button : add one new peaks where the signal local maximum is found."
   ]
  },
  {
   "cell_type": "markdown",
   "id": "9444bb13-09f8-4b65-a7e6-afdad0e75ba2",
   "metadata": {},
   "source": [
    "After peaks correction, a new `corrected` subfolder will be appended to the systole derivatives:\n",
    "\n",
    "```\n",
    "└─ BIDS/\n",
    "   ├─ derivatives/\n",
    "   │  └─ systole/\n",
    "   │     ├─ corrected/\n",
    "   │        └─ sub-0001/\n",
    "   │           └─ ses-session1/\n",
    "   │              └─ beh/\n",
    "   │                 └─ sub-0001_ses_session1_task-mytask_physio.json\n",
    "   │     └─ sub-0001/\n",
    "   │         └─ ses-session1/\n",
    "   │            └─ beh/\n",
    "   │               ├─ sub-0001_ses_session1_task-mytask_features.tsv\n",
    "   │               ├─ sub-0001_ses_session1_task-mytask_report.html\n",
    "   │               ├─ sub-0001_ses_session1_task-mytask_physio.tsv.gz\n",
    "   │               └─ sub-0001_ses_session1_task-mytask_physio.json\n",
    "   ├─ sub-0001/\n",
    "   │  └─ ses-session1/\n",
    "   │     └─ beh/\n",
    "   │        ├─ sub-0001_ses_session1_task-mytask_physio.tsv.gz\n",
    "   │        └─ sub-0001_ses_session1_task-mytask_physio.json\n",
    "   │\n",
    "   ├─ sub-0002/\n",
    "   ├─ sub-0003/\n",
    "   └─ ... \n",
    "```\n",
    "\n",
    "The logs of artefacts correction will be locted in the new `_physio.json` file and contains all information about bad segments labelling, peaks deletion and peaks insertion.\n",
    "\n",
    "* `add_idx` logs the position of new peaks, in sample idex.\n",
    "* `remove_idx` logs the position of removed peaks, in sample idex.\n",
    "* The `bads` field logs the starting and ending points of bad segments in the recoring.\n",
    "\n",
    "\n",
    "```python\n",
    "{\n",
    "    \"ppg\": {\n",
    "        \"add_idx\": [\n",
    "            632675\n",
    "        ],\n",
    "        \"remove_idx\": [\n",
    "            630427,\n",
    "        ],\n",
    "        \"bads\": {\n",
    "            \"start\": null,\n",
    "            \"end\": null\n",
    "        }\n",
    "    }\n",
    "}\n",
    "```"
   ]
  }
 ],
 "metadata": {
  "jupytext": {
   "formats": "ipynb,md:myst"
  },
  "kernelspec": {
   "display_name": "Python 3 (ipykernel)",
   "language": "python",
   "name": "python3"
  },
  "language_info": {
   "codemirror_mode": {
    "name": "ipython",
    "version": 3
   },
   "file_extension": ".py",
   "mimetype": "text/x-python",
   "name": "python",
   "nbconvert_exporter": "python",
   "pygments_lexer": "ipython3",
   "version": "3.8.8"
  }
 },
 "nbformat": 4,
 "nbformat_minor": 5
}
