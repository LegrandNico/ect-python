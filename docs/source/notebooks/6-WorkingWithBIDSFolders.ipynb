{
 "cells": [
  {
   "cell_type": "markdown",
   "id": "cf2a2ca5",
   "metadata": {},
   "source": [
    "(bids_folders)=\n",
    "# Working with BIDS folders\n",
    "Author: Nicolas Legrand <nicolas.legrand@cfin.au.dk>"
   ]
  },
  {
   "cell_type": "code",
   "execution_count": 1,
   "id": "24263369",
   "metadata": {
    "tags": [
     "hide-input"
    ]
   },
   "outputs": [],
   "source": [
    "%%capture\n",
    "import sys\n",
    "if 'google.colab' in sys.modules:\n",
    "    ! pip install systole"
   ]
  },
  {
   "cell_type": "markdown",
   "id": "cfc81d37",
   "metadata": {},
   "source": [
    "Starting in version `0.2.3`, Systole provides tools to interact efficiently with large datasets containing physiological recordings. Most of the functionalities interface with folders structured following the [BIDS standards](https://bids-specification.readthedocs.io/en/stable/) and this is the format we recommend using if you are following this tutorial.\n",
    "\n",
    "Under BIDS standards, physiological recordings, sometimes associated with behavioural tasks or neural recordings, are stored with a filename ending with `*_physio.tsv.gz` and are always accompanied with sidecar a `*_physio.json` file containing metadata like the recording modality or the sampling frequency. Accessing both the times series and its accompanying metadata will help Systole automate the preprocessing by finding the correct parameters for peaks detection and reports.\n",
    "\n",
    "Once you have organized your folder, you should have a structure resembling this one:\n",
    "\n",
    "```\n",
    "└─ BIDS/\n",
    "   ├─ sub-0001/\n",
    "   │  └─ ses-session1/\n",
    "   │     └─ beh/\n",
    "   │        ├─ sub-0001_ses_session1_task-mytask_physio.tsv.gz\n",
    "   │        └─ sub-0001_ses_session1_task-mytask_physio.json\n",
    "   │\n",
    "   ├─ sub-0002/\n",
    "   ├─ sub-0003/\n",
    "   └─ ... \n",
    "```\n",
    "\n",
    "Here, we have physiological recordings associated with a behavioural task for `n` participants in the folder."
   ]
  },
  {
   "cell_type": "markdown",
   "id": "cba92579",
   "metadata": {},
   "source": [
    "## Signal preprocessing and creation of subject and group-level reports"
   ]
  },
  {
   "cell_type": "markdown",
   "id": "1b2348ca-8c1c-4efa-9ab5-f2f3edba125b",
   "metadata": {},
   "source": [
    "The first step will be to preprocess the raw data and store the signal and peaks detection in a new derivative folder. During this step, we can also decide to create HTML reports for each participants, so we can visualize the signal quality and peaks detection.\n",
    "\n",
    "### Preprocessing the physiological recording from one participant\n",
    "\n",
    "The py:func:`systole.reports` sub-module contains tools to directly interact with BIDS formatted folders, preprocess and save individual reports in a BIDS consistent way. Those functionalities are built on the top of the py:func:`systole.reports.subject_level_report` function. This function will simply take a signal as input and will save as output the preprocessed signal with peaks detection (`_physio.tsv.gz` with the `_physio.json`), an `.html` reports adapted to the kind of signal that was provided, and a `features.tsv` file containing heart rate or respiratory rate variability features.\n",
    "\n",
    "For example, running the following code:\n",
    "\n",
    "\n",
    "```python\n",
    "from systole import import_dataset1\n",
    "from systole.reports import subject_level_report\n",
    "\n",
    "ecg = import_dataset1(modalities=[\"ECG\"]).ecg.to_numpy()\n",
    "\n",
    "subject_level_report(\n",
    "    participant_id=\"participant_test\",\n",
    "    pattern=\"task_test\",\n",
    "    result_folder=\"./\",\n",
    "    session=\"session_test\",\n",
    "    ecg=ecg,\n",
    "    ecg_sfreq=1000,\n",
    ")\n",
    "```"
   ]
  },
  {
   "cell_type": "markdown",
   "id": "b90beeaa-0911-4b50-b281-af0c6981364a",
   "metadata": {},
   "source": [
    "will save these four new files in the file folder.\n",
    "1. The `.html` file is a standalone document that can be visualized in the browser.\n",
    "2. The `features.tsv` contains heart rate and/or respiration rate variability metrics.\n",
    "3. The `_physio.tsv.gz` and the `_physio.json` files contain the preprocessed signal with new columns `peaks` for peaks detection."
   ]
  },
  {
   "cell_type": "markdown",
   "id": "20491907-8031-455b-9834-ac219c384c40",
   "metadata": {},
   "source": [
    "### Preprocessing the entire BIDS folder\n",
    "\n",
    "The previous function call can be automated for each participant and each file of a given BIDS folder and to extract the physiological features using the information provided in the `json` metadata automatically. This can be done using the py:func:`systole.reports.wrapper` function, or directly from the command line. For example, the following command:\n",
    "\n",
    "```bash\n",
    "systole --bids_folder=\"/path/to/BIDS/folder/\" \\\n",
    "        --patterns=\"task-mytask\" \\\n",
    "        --modality=\"beh\" \\\n",
    "        --n_jobs=10 \\\n",
    "        --overwrite=True \\\n",
    "        --html_reports==False\n",
    "```\n",
    "\n",
    "will preprocess the data for all participants with a physiological recording in the session `ses-session1` (default), for the behavioural modality (`beh`) and the task `mytask`. We set `n_jobs=10`, meaning that we will run 40 processes in parallel, and `overwrite=True` to overwrite previous data with the same ID in the derivative folder. Note that we also set `html_reports` to `False` as these files can be quite large, it is often preferable to only create it for the participant we want to review, or to use the {ref}`viewer`. "
   ]
  },
  {
   "cell_type": "markdown",
   "id": "f4f50d3f-83ec-4c79-b7f8-81f146b21d2d",
   "metadata": {},
   "source": [
    "```{note}\n",
    "When setting `overwrite=True`, only the preprocessed derivatives will be overwritten, but not the edited files located in `BIDS/systole/derivatives/corrected/*`. This means that it is possible to re-run the preprocessing event after working on the manual artefacts edition (see below).\n",
    "```"
   ]
  },
  {
   "cell_type": "markdown",
   "id": "46e763cc-134a-4850-973d-96ea9d401db9",
   "metadata": {},
   "source": [
    "Once the preprocessing is completed, and if you did not asked for an external result folder, the structure of the BIDS repository should now include a new `systole` folder in the derivatives:\n",
    "\n",
    "```\n",
    "└─ BIDS/\n",
    "   ├─ derivatives/\n",
    "   │  └─ systole/\n",
    "   │     └─ sub-0001/\n",
    "   │         └─ ses-session1/\n",
    "   │            └─ beh/\n",
    "   │               ├─ sub-0001_ses_session1_task-mytask_features.tsv\n",
    "   │               ├─ sub-0001_ses_session1_task-mytask_report.html\n",
    "   │               ├─ sub-0001_ses_session1_task-mytask_physio.tsv.gz\n",
    "   │               └─ sub-0001_ses_session1_task-mytask_physio.json\n",
    "   ├─ sub-0001/\n",
    "   │  └─ ses-session1/\n",
    "   │     └─ beh/\n",
    "   │        ├─ sub-0001_ses_session1_task-mytask_physio.tsv.gz\n",
    "   │        └─ sub-0001_ses_session1_task-mytask_physio.json\n",
    "   │\n",
    "   ├─ sub-0002/\n",
    "   ├─ sub-0003/\n",
    "   └─ ... \n",
    "```"
   ]
  },
  {
   "cell_type": "markdown",
   "id": "576128ad-9178-4522-b2db-963f8854ffe3",
   "metadata": {},
   "source": [
    "(viewer)=\n",
    "## Manual edition of peaks vector and labelling bad segments using the Viewer\n",
    "\n",
    "While we hope that the peaks detection function used by [Systole](https://embodied-computation-group.github.io/systole/#) is sufficiently robust to extract peak vectors without errors for most of the uses cases, you might still encounter noisy or invalid recording that you will want to manually inspect and sometimes edit.\n",
    "\n",
    "The py:func:`systole.viewer` sub-module is built on the top of Matplotlib widgets and can help for manual peaks edition or bad segments labelling. For example, running the following cells in a Jupyter notebook:\n",
    "\n",
    "```python\n",
    "from IPython.display import display\n",
    "from systole.viewer import Viewer\n",
    "\n",
    "%matplotlib ipympl\n",
    "```\n",
    "\n",
    "```python\n",
    "view = Viewer(\n",
    "    figsize=(15, 5),\n",
    "    input_folder=\"/BIDS_folder/derivatives/systole/\",\n",
    "    pattern=\"task-hrd\", # A string long enough to disambiguate in case of mmultiple recordings\n",
    "    modality=\"beh\",\n",
    "    signal_type=\"ECG\"\n",
    ")\n",
    "```\n",
    "\n",
    "```python\n",
    "display(view.io_box, view.commands_box, view.output)\n",
    "```\n",
    "\n",
    "will create an interactive windows from which all the preprocessed recordings and peaks detection can be inspected.\n",
    "\n",
    "<p align='center'><img src='https://github.com/embodied-computation-group/systole/raw/dev/docs/source/images/editor.gif'/></p>"
   ]
  },
  {
   "cell_type": "markdown",
   "id": "32fe5112-2c28-479f-8674-90a9e9d415bf",
   "metadata": {},
   "source": [
    "### Inserting / deleting peaks\n",
    "\n",
    "Peaks can be inserted (using the local maxima of the selected range) or deleted.\n",
    "\n",
    "* Left mouse button : remove all the peaks in the selected interval.\n",
    "* Right mouse button : add one new peaks where the signal local maximum is found.\n",
    "\n",
    "<p align='center'><img src='https://github.com/embodied-computation-group/systole/raw/dev/docs/source/images/editor_peaks.gif'/></p>"
   ]
  },
  {
   "cell_type": "markdown",
   "id": "64b8cb01-d097-4cc5-a0f2-3bc58b5b135c",
   "metadata": {},
   "source": [
    "### Bad segments labelling\n",
    "\n",
    "In case a whole segment of the recording contain noise and should be entirely removed from future analysis, it can be labelled by swiching the edition mode from `Correction` to `Rejection`.\n",
    "\n",
    "<p align='center'><img src='https://github.com/embodied-computation-group/systole/raw/dev/docs/source/images/editor_peaks.gif'/></p>\n"
   ]
  },
  {
   "cell_type": "markdown",
   "id": "9444bb13-09f8-4b65-a7e6-afdad0e75ba2",
   "metadata": {},
   "source": [
    "### Working with corrected signals\n",
    "\n",
    "After manual peaks correction and segments labelling, a new `corrected` subfolder will be appended to the systole derivatives:\n",
    "\n",
    "```\n",
    "└─ BIDS/\n",
    "   ├─ derivatives/\n",
    "   │  └─ systole/\n",
    "   │     ├─ corrected/\n",
    "   │        └─ sub-0001/\n",
    "   │           └─ ses-session1/\n",
    "   │              └─ beh/\n",
    "   │                 └─ sub-0001_ses_session1_task-mytask_physio.json\n",
    "   │     └─ sub-0001/\n",
    "   │         └─ ses-session1/\n",
    "   │            └─ beh/\n",
    "   │               ├─ sub-0001_ses_session1_task-mytask_features.tsv\n",
    "   │               ├─ sub-0001_ses_session1_task-mytask_report.html\n",
    "   │               ├─ sub-0001_ses_session1_task-mytask_physio.tsv.gz\n",
    "   │               └─ sub-0001_ses_session1_task-mytask_physio.json\n",
    "   ├─ sub-0001/\n",
    "   │  └─ ses-session1/\n",
    "   │     └─ beh/\n",
    "   │        ├─ sub-0001_ses_session1_task-mytask_physio.tsv.gz\n",
    "   │        └─ sub-0001_ses_session1_task-mytask_physio.json\n",
    "   │\n",
    "   ├─ sub-0002/\n",
    "   ├─ sub-0003/\n",
    "   └─ ... \n",
    "```\n",
    "\n",
    "The logs of artefacts correction are located in the new `_physio.json` file and contains all information about bad segments labelling, peaks deletion and peaks insertion. The JSON file contains the following entries for each modality (ECG, PPG and respiration)\n",
    "\n",
    "* `valid` : is the recording valid or should it be discared (`True` unless otherwise stated).\n",
    "* `corrected_peaks` : the peaks indexes after correction.\n",
    "* `bad_segments` : a list of `start` and `end` indexed of bad segments."
   ]
  }
 ],
 "metadata": {
  "jupytext": {
   "formats": "ipynb,md:myst"
  },
  "kernelspec": {
   "display_name": "Python 3 (ipykernel)",
   "language": "python",
   "name": "python3"
  },
  "language_info": {
   "codemirror_mode": {
    "name": "ipython",
    "version": 3
   },
   "file_extension": ".py",
   "mimetype": "text/x-python",
   "name": "python",
   "nbconvert_exporter": "python",
   "pygments_lexer": "ipython3",
   "version": "3.8.8"
  },
  "vscode": {
   "interpreter": {
    "hash": "40d3a090f54c6569ab1632332b64b2c03c39dcf918b08424e98f38b5ae0af88f"
   }
  }
 },
 "nbformat": 4,
 "nbformat_minor": 5
}
